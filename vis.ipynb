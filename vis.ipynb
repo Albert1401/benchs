{
 "cells": [
  {
   "cell_type": "code",
   "execution_count": 28,
   "metadata": {},
   "outputs": [],
   "source": [
    "from matplotlib import pyplot as plt\n",
    "%matplotlib qt5\n",
    "import os\n",
    "import sys\n",
    "from itertools import chain\n",
    "import plotly.plotly as pyy"
   ]
  },
  {
   "cell_type": "code",
   "execution_count": 29,
   "metadata": {},
   "outputs": [],
   "source": [
    "bdir = ['MST/']"
   ]
  },
  {
   "cell_type": "code",
   "execution_count": 30,
   "metadata": {},
   "outputs": [],
   "source": [
    "def read_bench(file):\n",
    "    fs = []\n",
    "    ts = []\n",
    "    with open(file, 'r') as f:\n",
    "        n = int(f.readline())\n",
    "        for i in range(n):\n",
    "            fs.append(float(f.readline()))\n",
    "            ts.append(float(f.readline()))   \n",
    "    return fs, ts"
   ]
  },
  {
   "cell_type": "code",
   "execution_count": 31,
   "metadata": {
    "scrolled": true
   },
   "outputs": [],
   "source": [
    "benchs = list(chain(*map(lambda d: map(lambda f: d+f,os.listdir(d)), bdir)))"
   ]
  },
  {
   "cell_type": "code",
   "execution_count": 32,
   "metadata": {},
   "outputs": [],
   "source": [
    "benchs = list(filter(lambda f: '' in f, benchs))"
   ]
  },
  {
   "cell_type": "code",
   "execution_count": 33,
   "metadata": {},
   "outputs": [
    {
     "data": {
      "text/plain": [
       "['MST/1+{2l;1}:>0,p=n^-1$MST_465',\n",
       " 'MST/1+1:>0,p=n^-1$MST_465',\n",
       " 'MST/1+{2*r;0.5*r}:>0$MST_465',\n",
       " 'MST/RLS$MST_465',\n",
       " 'MST/EARL eps=0.10 fstep=50 eta=0.10 disc=0.60 states=1$MST_465',\n",
       " 'MST/1+{2l;0.5*l}:>0,p=n^-1$MST_465',\n",
       " 'MST/1+10:>0,p=n^-1$MST_465',\n",
       " 'MST/EARL eps=0.10 fstep=100 eta=0.10 disc=0.60 states=1$MST_465']"
      ]
     },
     "execution_count": 33,
     "metadata": {},
     "output_type": "execute_result"
    }
   ],
   "source": [
    "benchs"
   ]
  },
  {
   "cell_type": "code",
   "execution_count": 34,
   "metadata": {
    "scrolled": false
   },
   "outputs": [],
   "source": [
    "for b in benchs:\n",
    "    name = b.split('$')[0]\n",
    "    fs, ts = read_bench(b)\n",
    "    plt.plot(fs, ts, label = name)\n",
    "plt.xlabel('LO(x)')\n",
    "plt.ylabel('T(A, LO(X))')\n",
    "plt.legend()\n",
    "\n",
    "plt.show()\n",
    "# pyy.plot_mpl(plt.)"
   ]
  },
  {
   "cell_type": "code",
   "execution_count": 9,
   "metadata": {},
   "outputs": [
    {
     "name": "stdout",
     "output_type": "stream",
     "text": [
      "AA/1+50:>0,p=0.5*ln(lambda)*n^-1 1568301.0\n",
      "AA/1+{A*p;B*p}:>0 920832.0\n",
      "AA/1+{2l;s^-1*l}:>0,p=n^-1 1219882.3333333333\n",
      "AA/EARL eps=0,10 fstep=150 eta=0,30 disc=0,30 states=4 1256641.0\n",
      "AA/1+1:>0,p=n^-1 1269971.8333333333\n",
      "AA/RLS 1237954.3333333333\n",
      "AA/1+{2*r;0.5*r}:>0 1840526.0\n",
      "AA/1+{2l;0.5*l}:>0,p=n^-1 1215209.5\n",
      "AA/EARL eps=0,25 fstep=500 eta=0,10 disc=0,70 states=1 1144451.6666666667\n",
      "AA/EARL eps=0,10 fstep=500 eta=0,10 disc=0,70 states=20 1184940.6666666667\n",
      "AA/1+{2l;1}:>0,p=n^-1 1235569.0\n"
     ]
    }
   ],
   "source": [
    "for b in benchs:\n",
    "    name = b.split('$')[0]\n",
    "    fs, ts = read_bench(b)\n",
    "    print(name, ts[-1])\n",
    "#     plt.plot(fs, ts, label = b.split('$')[0])\n",
    "plt.xlabel('LO(x)')\n",
    "plt.ylabel('T(A, LO(X))')\n",
    "plt.legend()\n",
    "\n",
    "plt.show()\n",
    "# pyy.plot_mpl(plt.)"
   ]
  },
  {
   "cell_type": "code",
   "execution_count": null,
   "metadata": {},
   "outputs": [],
   "source": [
    "### ind1 = [1,2,3]\n",
    "p1 = plt.bar(ind1, [197259 / 500 /500, 817812 / 1000000, 1824849 / 1500 /1500], width = 0.2)\n",
    "\n",
    "ind2 = [1.2,2.2,3.2]\n",
    "p2 = plt.bar(ind2, [0.91, 0.9, 0.92], width = 0.2)\n",
    "\n",
    "plt.xticks(ind1 + ind2, [500, 1000, 1500] * 2)\n",
    "\n",
    "plt.title('Среднее время на leadingones')\n",
    "plt.legend([p1[0], p2[0]], ['я', 'статья'])\n",
    "plt.ylabel('кол-во запросов / n^2')\n",
    "plt.show()"
   ]
  },
  {
   "cell_type": "code",
   "execution_count": 15,
   "metadata": {},
   "outputs": [],
   "source": [
    "for b in benchs:\n",
    "    name = b.split('$')[0]\n",
    "    fs, ts = read_bench(bdir + b)\n",
    "    for i in range(len(ts) - 1, 0, -1):\n",
    "        ts[i] -= ts[i - 1]\n",
    "        \n",
    "    plt.plot(fs, ts, label = b.split('$')[0])\n",
    "\n",
    "plt.xlabel('LO(x)')\n",
    "plt.ylabel('T(A, LO(X), i + 1) - T(A, LO(X), i)')\n",
    "plt.legend()\n",
    "plt.show()"
   ]
  },
  {
   "cell_type": "code",
   "execution_count": null,
   "metadata": {},
   "outputs": [],
   "source": []
  }
 ],
 "metadata": {
  "kernelspec": {
   "display_name": "Python 3",
   "language": "python",
   "name": "python3"
  },
  "language_info": {
   "codemirror_mode": {
    "name": "ipython",
    "version": 3
   },
   "file_extension": ".py",
   "mimetype": "text/x-python",
   "name": "python",
   "nbconvert_exporter": "python",
   "pygments_lexer": "ipython3",
   "version": "3.6.4"
  }
 },
 "nbformat": 4,
 "nbformat_minor": 2
}
